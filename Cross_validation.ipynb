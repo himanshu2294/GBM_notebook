{
 "cells": [
  {
   "cell_type": "markdown",
   "metadata": {},
   "source": [
    "### 1. Using Light GBM"
   ]
  },
  {
   "cell_type": "code",
   "execution_count": 1,
   "metadata": {},
   "outputs": [],
   "source": [
    "import pandas as pd\n",
    "import numpy as np\n",
    "import lightgbm as lgb\n",
    "from scipy import sparse as ssp\n",
    "from sklearn.model_selection import StratifiedKFold\n",
    "import numpy as np\n",
    "import pandas as pd\n",
    "from sklearn.preprocessing import LabelEncoder\n",
    "from sklearn.preprocessing import OneHotEncoder\n",
    "from sklearn.metrics import roc_auc_score\n",
    "from sklearn import datasets, linear_model, metrics\n",
    "from sklearn.model_selection import train_test_split\n",
    "\n",
    "import warnings\n",
    "warnings.filterwarnings(\"ignore\")\n",
    "import time"
   ]
  },
  {
   "cell_type": "code",
   "execution_count": 45,
   "metadata": {},
   "outputs": [],
   "source": [
    "param = {\n",
    "    'boosting_type': 'gbdt',\n",
    "    'objective': 'binary',\n",
    "    'metric': 'auc',\n",
    "    'learning_rate': 0.05,\n",
    "    'num_leaves': 255,  \n",
    "    'max_depth': 7,  \n",
    "    'min_child_samples':50,  \n",
    "    'max_bin': 100,  \n",
    "    'subsample': 0.7,  \n",
    "    'subsample_freq': 1,  \n",
    "    'colsample_bytree': 0.7,  \n",
    "    'min_child_weight': 0,  \n",
    "    'subsample_for_bin': 200,  \n",
    "    'min_split_gain': 0,  \n",
    "    'reg_alpha': 1,  \n",
    "    'reg_lambda': 1,  \n",
    "   # 'nthread': 8,\n",
    "    'verbose': 5,\n",
    "    'scale_pos_weight':99 \n",
    "    }\n",
    "        "
   ]
  },
  {
   "cell_type": "code",
   "execution_count": 3,
   "metadata": {},
   "outputs": [],
   "source": [
    "Path = \".//CV_dataset//\""
   ]
  },
  {
   "cell_type": "code",
   "execution_count": 24,
   "metadata": {},
   "outputs": [],
   "source": [
    "def get_function(train_df):\n",
    "    train_df = pd.get_dummies(train_df,prefix='pin_',dummy_na= True, columns=['catg_pincode_id_ftg'])\n",
    "    train_df = pd.get_dummies(train_df,prefix='emp_code_',dummy_na= True, columns=['catg_employee_code_id_ftg'])\n",
    "    train_df = pd.get_dummies(train_df,prefix='supp_id_',dummy_na= True, columns=['catg_supplier_id_ftg'])\n",
    "    train_df = pd.get_dummies(train_df,prefix='branch_id_',dummy_na= True, columns=['catg_branch_id_ftg'])\n",
    "    train_df = pd.get_dummies(train_df,prefix='manufacturer_id_',dummy_na= True, columns=['catg_manufacturer_id_ftg'])\n",
    "    train_df = pd.get_dummies(train_df,prefix='state_id_',dummy_na= True, columns=['catg_state_id_ftg'])\n",
    "\n",
    "    train_df = pd.get_dummies(train_df,prefix='catg_cns_desc_',dummy_na= True, columns=['PERFORM_CNS.SCORE.DESCRIPTION'])\n",
    "    train_df = pd.get_dummies(train_df,prefix='catg_emp_type',dummy_na= True, columns=['Employment.Type'])\n",
    "    train_df['Total_verification_flags'] = train_df['Total_verification_flags'].astype('int8')                \n",
    "    \n",
    "    return train_df"
   ]
  },
  {
   "cell_type": "code",
   "execution_count": 25,
   "metadata": {},
   "outputs": [],
   "source": [
    "pd.DataFrame(features).to_csv('Features.csv')"
   ]
  },
  {
   "cell_type": "code",
   "execution_count": 27,
   "metadata": {},
   "outputs": [
    {
     "data": {
      "text/plain": [
       "False"
      ]
     },
     "execution_count": 27,
     "metadata": {},
     "output_type": "execute_result"
    }
   ],
   "source": [
    "'loan_default' in features"
   ]
  },
  {
   "cell_type": "code",
   "execution_count": 43,
   "metadata": {},
   "outputs": [],
   "source": [
    "feat_common=  ['disbursed_amount', 'asset_cost', 'ltv', 'Aadhar_flag', 'PAN_flag', 'VoterID_flag',\\\n",
    "                'Driving_flag', 'Passport_flag', 'PERFORM_CNS.SCORE', 'PRI.NO.OF.ACCTS', 'PRI.ACTIVE.ACCTS', 'PRI.OVERDUE.ACCTS',\n",
    "                'PRI.CURRENT.BALANCE', 'PRI.SANCTIONED.AMOUNT', 'PRI.DISBURSED.AMOUNT', 'SEC.NO.OF.ACCTS',\n",
    "                'SEC.ACTIVE.ACCTS', 'SEC.OVERDUE.ACCTS', 'SEC.CURRENT.BALANCE',\n",
    "               'SEC.SANCTIONED.AMOUNT', 'SEC.DISBURSED.AMOUNT', 'PRIMARY.INSTAL.AMT',\n",
    "               'SEC.INSTAL.AMT', 'NEW.ACCTS.IN.LAST.SIX.MONTHS',\n",
    "               'DELINQUENT.ACCTS.IN.LAST.SIX.MONTHS', 'NO.OF_INQUIRIES',\n",
    "               'Age_at_disbursaldate',   'Converted_AVERAGE.ACCT.AGE',\n",
    "               'Converted_CREDIT.HISTORY.LENGTH','Total_verification_flags',\n",
    "           'Disbursal_Month','Disbursal_Day'] "
   ]
  },
  {
   "cell_type": "code",
   "execution_count": null,
   "metadata": {},
   "outputs": [],
   "source": [
    "# Doing K fold crossvalidation\n",
    "oof_all=[]\n",
    "feature_importance_df = pd.DataFrame()\n",
    "\n",
    "for i in range(5):\n",
    "    \n",
    "    train_df =  pd.read_pickle(Path+\"train_\"+str(i+1)+\".csv\") \n",
    "    val_df   =  pd.read_pickle(Path+\"val_\"+str(i+1)+\".csv\") \n",
    "    test_df  =  pd.read_pickle(Path+\"test_\"+str(i+1)+\".csv\")\n",
    "    \n",
    "    train_df = get_function(train_df)\n",
    "    test_df  = get_function(test_df)\n",
    "    val_df   = get_function(val_df)\n",
    "    \n",
    "    if i == 0:\n",
    "        predictions1 = np.zeros(len(test_df))\n",
    "    else:\n",
    "        pass\n",
    "    features = feat_common+list(train_df.columns[58:])\n",
    "    start_time= time.time()\n",
    "    \n",
    "    oof = np.zeros(len(val_df))\n",
    "    max_iter = 5\n",
    "    \n",
    "    trn_data = lgb.Dataset(train_df[features],\n",
    "                               label=train_df['loan_default']\n",
    "                              )\n",
    "    val_data = lgb.Dataset(val_df[features],\n",
    "                               label=val_df['loan_default'] \n",
    "                              )\n",
    "\n",
    "    num_round = 10000\n",
    "    clf = lgb.train(param, trn_data,\n",
    "                        num_round,\n",
    "                        valid_sets = [trn_data, val_data],\n",
    "                        verbose_eval=100,\n",
    "                        early_stopping_rounds = 100)\n",
    "    \n",
    "    oof = clf.predict(val_df[features], num_iteration=clf.best_iteration)\n",
    "\n",
    "    fold_importance_df = pd.DataFrame()\n",
    "    fold_importance_df[\"feature\"] = features\n",
    "    fold_importance_df[\"importance\"] = clf.feature_importance(importance_type='gain')\n",
    "    fold_importance_df[\"fold\"] = i + 1\n",
    "    feature_importance_df = pd.concat([feature_importance_df, fold_importance_df], axis=0)\n",
    "\n",
    "        # we perform predictions by chunks\n",
    "    current_pred1 = clf.predict(test_df[features].values)\n",
    "    predictions1 += current_pred\n",
    "\n",
    "    oof_all.append(oof)\n",
    "    print(roc_auc_score(val_df['loan_default'].values, oof))\n",
    "    features = []\n",
    "predictions1 = predictions1/5\n"
   ]
  },
  {
   "cell_type": "code",
   "execution_count": 34,
   "metadata": {},
   "outputs": [],
   "source": [
    "submission = pd.read_csv(\"test_bqCt9Pv.csv\")\n",
    "submission['loan_default'] = current_pred\n",
    "submission[['UniqueID','loan_default']].to_csv('Solution_3.csv', index = False)"
   ]
  },
  {
   "cell_type": "code",
   "execution_count": 11,
   "metadata": {},
   "outputs": [],
   "source": []
  },
  {
   "cell_type": "code",
   "execution_count": 12,
   "metadata": {},
   "outputs": [
    {
     "data": {
      "text/plain": [
       "121"
      ]
     },
     "execution_count": 12,
     "metadata": {},
     "output_type": "execute_result"
    }
   ],
   "source": [
    "len(features)"
   ]
  },
  {
   "cell_type": "code",
   "execution_count": 23,
   "metadata": {},
   "outputs": [
    {
     "data": {
      "text/plain": [
       "disbursed_amount                         int64\n",
       "asset_cost                               int64\n",
       "ltv                                    float64\n",
       "Aadhar_flag                              int64\n",
       "PAN_flag                                 int64\n",
       "VoterID_flag                             int64\n",
       "Driving_flag                             int64\n",
       "Passport_flag                            int64\n",
       "PERFORM_CNS.SCORE                        int64\n",
       "PRI.NO.OF.ACCTS                          int64\n",
       "PRI.ACTIVE.ACCTS                         int64\n",
       "PRI.OVERDUE.ACCTS                        int64\n",
       "PRI.CURRENT.BALANCE                      int64\n",
       "PRI.SANCTIONED.AMOUNT                    int64\n",
       "PRI.DISBURSED.AMOUNT                     int64\n",
       "SEC.NO.OF.ACCTS                          int64\n",
       "SEC.ACTIVE.ACCTS                         int64\n",
       "SEC.OVERDUE.ACCTS                        int64\n",
       "SEC.CURRENT.BALANCE                      int64\n",
       "SEC.SANCTIONED.AMOUNT                    int64\n",
       "SEC.DISBURSED.AMOUNT                     int64\n",
       "PRIMARY.INSTAL.AMT                       int64\n",
       "SEC.INSTAL.AMT                           int64\n",
       "NEW.ACCTS.IN.LAST.SIX.MONTHS             int64\n",
       "DELINQUENT.ACCTS.IN.LAST.SIX.MONTHS      int64\n",
       "NO.OF_INQUIRIES                          int64\n",
       "Age_at_disbursaldate                   float64\n",
       "Converted_AVERAGE.ACCT.AGE               int64\n",
       "Converted_CREDIT.HISTORY.LENGTH          int64\n",
       "Total_verification_flags                object\n",
       "                                        ...   \n",
       "branch_id__(0.282, 0.294]                uint8\n",
       "branch_id__(0.294, 0.333]                uint8\n",
       "branch_id__nan                           uint8\n",
       "manufacturer_id__(0.0, 0.205]            uint8\n",
       "manufacturer_id__(0.205, 0.207]          uint8\n",
       "manufacturer_id__(0.207, 0.218]          uint8\n",
       "manufacturer_id__(0.218, 0.219]          uint8\n",
       "manufacturer_id__(0.219, 0.228]          uint8\n",
       "manufacturer_id__(0.228, 0.275]          uint8\n",
       "manufacturer_id__nan                     uint8\n",
       "state_id__(0.115, 0.184]                 uint8\n",
       "state_id__(0.184, 0.185]                 uint8\n",
       "state_id__(0.185, 0.205]                 uint8\n",
       "state_id__(0.205, 0.208]                 uint8\n",
       "state_id__(0.208, 0.211]                 uint8\n",
       "state_id__(0.211, 0.218]                 uint8\n",
       "state_id__(0.218, 0.228]                 uint8\n",
       "state_id__(0.228, 0.276]                 uint8\n",
       "state_id__(0.276, 0.305]                 uint8\n",
       "state_id__nan                            uint8\n",
       "catg_cns_desc__0.0                       uint8\n",
       "catg_cns_desc__1.0                       uint8\n",
       "catg_cns_desc__2.0                       uint8\n",
       "catg_cns_desc__3.0                       uint8\n",
       "catg_cns_desc__4.0                       uint8\n",
       "catg_cns_desc__5.0                       uint8\n",
       "catg_cns_desc__nan                       uint8\n",
       "catg_emp_type_Salaried                   uint8\n",
       "catg_emp_type_Self employed              uint8\n",
       "catg_emp_type_nan                        uint8\n",
       "Length: 121, dtype: object"
      ]
     },
     "execution_count": 23,
     "metadata": {},
     "output_type": "execute_result"
    }
   ],
   "source": [
    "train_df[features].dtypes"
   ]
  },
  {
   "cell_type": "code",
   "execution_count": null,
   "metadata": {},
   "outputs": [],
   "source": []
  }
 ],
 "metadata": {
  "kernelspec": {
   "display_name": "Python 3",
   "language": "python",
   "name": "python3"
  },
  "language_info": {
   "codemirror_mode": {
    "name": "ipython",
    "version": 3
   },
   "file_extension": ".py",
   "mimetype": "text/x-python",
   "name": "python",
   "nbconvert_exporter": "python",
   "pygments_lexer": "ipython3",
   "version": "3.6.8"
  }
 },
 "nbformat": 4,
 "nbformat_minor": 2
}
