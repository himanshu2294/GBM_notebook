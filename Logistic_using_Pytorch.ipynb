{
  "nbformat": 4,
  "nbformat_minor": 0,
  "metadata": {
    "colab": {
      "name": "Logistic using Pytorch",
      "version": "0.3.2",
      "provenance": [],
      "include_colab_link": true
    },
    "kernelspec": {
      "name": "python3",
      "display_name": "Python 3"
    }
  },
  "cells": [
    {
      "cell_type": "markdown",
      "metadata": {
        "id": "view-in-github",
        "colab_type": "text"
      },
      "source": [
        "<a href=\"https://colab.research.google.com/github/himanshu2294/GBM_notebook/blob/master/Logistic_using_Pytorch.ipynb\" target=\"_parent\"><img src=\"https://colab.research.google.com/assets/colab-badge.svg\" alt=\"Open In Colab\"/></a>"
      ]
    },
    {
      "metadata": {
        "id": "CcC7jfaiNDSU",
        "colab_type": "code",
        "colab": {}
      },
      "cell_type": "code",
      "source": [
        "import sys,os,os.path , pickle , gzip\n",
        "import matplotlib.pyplot as plt\n",
        "%matplotlib inline\n",
        "\n",
        "import torch\n",
        "import torch.nn as nn\n",
        "import torch.nn.functional as F\n",
        "\n",
        "import torchvision.datasets as dsets\n",
        "import torchvision.transforms as transforms\n",
        "from torch.autograd import Variable\n"
      ],
      "execution_count": 0,
      "outputs": []
    },
    {
      "metadata": {
        "id": "Obli7kKtbhtG",
        "colab_type": "code",
        "colab": {}
      },
      "cell_type": "code",
      "source": [
        ""
      ],
      "execution_count": 0,
      "outputs": []
    },
    {
      "metadata": {
        "id": "gt5MmzVANblQ",
        "colab_type": "code",
        "outputId": "4cd10b24-9d67-412d-9186-714adc860edf",
        "colab": {
          "base_uri": "https://localhost:8080/",
          "height": 66
        }
      },
      "cell_type": "code",
      "source": [
        "!pwd\n"
      ],
      "execution_count": 0,
      "outputs": [
        {
          "output_type": "stream",
          "text": [
            "/content\n"
          ],
          "name": "stdout"
        }
      ]
    },
    {
      "metadata": {
        "id": "JedXsk4zNJVH",
        "colab_type": "code",
        "outputId": "e797140d-f60d-4894-bd8b-f32c3b0be2e1",
        "colab": {
          "base_uri": "https://localhost:8080/",
          "height": 123
        }
      },
      "cell_type": "code",
      "source": [
        "# MNIST Dataset (Images and Labels)\n",
        "train_dataset = dsets.MNIST(root='.', \n",
        "                            train=True, \n",
        "                            transform=transforms.ToTensor(),\n",
        "                            download=True)\n",
        "\n",
        "test_dataset = dsets.MNIST(root='.', \n",
        "                           train=False, \n",
        "                           transform=transforms.ToTensor())\n",
        "\n",
        "# Dataset Loader (Input Pipline)\n",
        "batch_size = 64\n",
        "\n",
        "train_loader = torch.utils.data.DataLoader(dataset=train_dataset, \n",
        "                                           batch_size=batch_size, \n",
        "                                           shuffle=True)\n",
        "\n",
        "test_loader = torch.utils.data.DataLoader(dataset=test_dataset, \n",
        "                                          batch_size=batch_size, \n",
        "                                          shuffle=False)\n"
      ],
      "execution_count": 0,
      "outputs": [
        {
          "output_type": "stream",
          "text": [
            "Downloading http://yann.lecun.com/exdb/mnist/train-images-idx3-ubyte.gz\n",
            "Downloading http://yann.lecun.com/exdb/mnist/train-labels-idx1-ubyte.gz\n",
            "Downloading http://yann.lecun.com/exdb/mnist/t10k-images-idx3-ubyte.gz\n",
            "Downloading http://yann.lecun.com/exdb/mnist/t10k-labels-idx1-ubyte.gz\n",
            "Processing...\n",
            "Done!\n"
          ],
          "name": "stdout"
        }
      ]
    },
    {
      "metadata": {
        "id": "fThAFv2UNJZX",
        "colab_type": "code",
        "colab": {}
      },
      "cell_type": "code",
      "source": [
        "\"\"\" This LogReg class inherits from nn.Module Neural network module. Since we are performing inheritence, we use \n",
        "super().__init() to initialize nn.Module class within LogReg \n",
        "The class has two functions:\n",
        "1. Constructor: Used to initialize the parameters used in the class\n",
        "2. Forward : calculating prediction using above parameters. It also describes how neural network converts input to output\n",
        "\"\"\"\n",
        "\n",
        "\n",
        "class LogReg(nn.Module):\n",
        "    def __init__(self):\n",
        "        super().__init__()\n",
        "        self.l1_w = get_weights(28*28, 10)\n",
        "        self.l1_b = get_weights(10)\n",
        "    \n",
        "    def forward(self,x):\n",
        "        x = x.view(x.shape[0],-1)\n",
        "        x = (x @ self.l1_w)+ self.l1_b\n",
        "        x = torch.log(torch.exp(x)/torch.exp(x).sum(dim = 0))\n",
        "        return x\n",
        "    \n",
        "    "
      ],
      "execution_count": 0,
      "outputs": []
    },
    {
      "metadata": {
        "id": "kT_89ejtOvxa",
        "colab_type": "code",
        "colab": {}
      },
      "cell_type": "code",
      "source": [
        "def get_weights(*dims):\n",
        "    return nn.Parameter(torch.randn(dims)/dims[0])\n",
        "# Using nn.Parameter to tell the module that it is a parameter \n",
        "# and will get updated after certain epochs or dataloader events"
      ],
      "execution_count": 0,
      "outputs": []
    },
    {
      "metadata": {
        "id": "3QwTxEblNJTJ",
        "colab_type": "code",
        "outputId": "e203df5f-65ae-4b89-f759-b355d23946f6",
        "colab": {
          "base_uri": "https://localhost:8080/",
          "height": 192
        }
      },
      "cell_type": "code",
      "source": [
        "model = LogReg()\n",
        "learning_rate = 0.1\n",
        "num_epochs = 1\n",
        "# Loss and Optimizer\n",
        "# Softmax is internally computed.\n",
        "# Set parameters to be updated.\n",
        "criterion = nn.CrossEntropyLoss()  \n",
        "optimizer = torch.optim.SGD(model.parameters(), lr=learning_rate)  \n",
        "\n",
        "# Training the Model\n",
        "for epoch in range(num_epochs):\n",
        "    for i, (images, labels) in enumerate(train_loader):\n",
        "        images = Variable(images.view(-1, 28*28))\n",
        "        labels = Variable(labels)\n",
        "        \n",
        "        # Forward + Backward + Optimize\n",
        "        optimizer.zero_grad()\n",
        "        outputs = model(images)\n",
        "        loss = criterion(outputs, labels)\n",
        "        loss.backward()\n",
        "        optimizer.step()\n",
        "        \n",
        "        if (i+1) % 100 == 0:\n",
        "            print ('Epoch: [%d/%d], Step: [%d/%d], Loss : [%f]'% (epoch+1, num_epochs, i+1,len(train_dataset)//batch_size , loss ))\n",
        "\n",
        "correct = 0\n",
        "total = 0\n",
        "for images, labels in test_loader:\n",
        "    images = Variable(images.view(-1, 28*28))\n",
        "    outputs = model(images)\n",
        "    _, predicted = torch.max(outputs.data, 1)\n",
        "    total += labels.size(0)\n",
        "    correct += (predicted == labels).sum()\n",
        "    \n",
        "print('Accuracy of the model on the 10000 test images: %d %%' % (100 * correct / total))"
      ],
      "execution_count": 0,
      "outputs": [
        {
          "output_type": "stream",
          "text": [
            "Epoch: [1/1], Step: [100/937], Loss : [0.588573]\n",
            "Epoch: [1/1], Step: [200/937], Loss : [0.585430]\n",
            "Epoch: [1/1], Step: [300/937], Loss : [0.740029]\n",
            "Epoch: [1/1], Step: [400/937], Loss : [0.519321]\n",
            "Epoch: [1/1], Step: [500/937], Loss : [0.426041]\n",
            "Epoch: [1/1], Step: [600/937], Loss : [0.787620]\n",
            "Epoch: [1/1], Step: [700/937], Loss : [0.464162]\n",
            "Epoch: [1/1], Step: [800/937], Loss : [0.629104]\n",
            "Epoch: [1/1], Step: [900/937], Loss : [0.592111]\n",
            "Accuracy of the model on the 10000 test images: 89 %\n"
          ],
          "name": "stdout"
        }
      ]
    },
    {
      "metadata": {
        "id": "t9z9ZJ39PGvy",
        "colab_type": "code",
        "colab": {}
      },
      "cell_type": "code",
      "source": [
        "# t = [ 0.numel() for o in model.parameters]\n",
        "# t, sum(t)\n",
        "\n",
        "net = nn.Sequential(\n",
        "    nn.Linear(28*28, 100),\n",
        "    nn.ReLU(),\n",
        "    nn.Linear(100, 10),\n",
        "    nn.LogSoftmax()\n",
        ")\n"
      ],
      "execution_count": 0,
      "outputs": []
    },
    {
      "metadata": {
        "id": "dOgrJJuWPHDT",
        "colab_type": "code",
        "outputId": "04df8027-a696-401e-cfac-216570a1c7e9",
        "colab": {
          "base_uri": "https://localhost:8080/",
          "height": 251
        }
      },
      "cell_type": "code",
      "source": [
        "net = nn.Sequential(\n",
        "    nn.Linear(28*28, 100),\n",
        "    nn.ReLU(),\n",
        "    nn.Linear(100, 10),\n",
        "    nn.LogSoftmax()\n",
        ")\n",
        "\n",
        "model = net\n",
        "learning_rate = 0.1\n",
        "num_epochs = 1\n",
        "# Loss and Optimizer\n",
        "# Softmax is internally computed.\n",
        "# Set parameters to be updated.\n",
        "criterion = nn.CrossEntropyLoss()  \n",
        "optimizer = torch.optim.SGD(model.parameters(), lr=learning_rate)  \n",
        "\n",
        "# Training the Model\n",
        "for epoch in range(num_epochs):\n",
        "    for i, (images, labels) in enumerate(train_loader):\n",
        "        images = Variable(images.view(-1, 28*28))\n",
        "        labels = Variable(labels)\n",
        "        \n",
        "        # Forward + Backward + Optimize\n",
        "        optimizer.zero_grad()\n",
        "        outputs = model(images)\n",
        "        loss = criterion(outputs, labels)\n",
        "        loss.backward()\n",
        "        optimizer.step()\n",
        "        \n",
        "        if (i+1) % 100 == 0:\n",
        "            print ('Epoch: [%d/%d], Step: [%d/%d], Loss : [%f]'% (epoch+1, num_epochs, i+1,len(train_dataset)//batch_size , loss ))\n",
        "\n",
        "correct = 0\n",
        "total = 0\n",
        "for images, labels in test_loader:\n",
        "    images = Variable(images.view(-1, 28*28))\n",
        "    outputs = model(images)\n",
        "    _, predicted = torch.max(outputs.data, 1)\n",
        "    total += labels.size(0)\n",
        "    correct += (predicted == labels).sum()\n",
        "    \n",
        "print('Accuracy of the model on the 10000 test images: %d %%' % (100 * correct / total))"
      ],
      "execution_count": 0,
      "outputs": [
        {
          "output_type": "stream",
          "text": [
            "/usr/local/lib/python3.6/dist-packages/torch/nn/modules/container.py:92: UserWarning: Implicit dimension choice for log_softmax has been deprecated. Change the call to include dim=X as an argument.\n",
            "  input = module(input)\n"
          ],
          "name": "stderr"
        },
        {
          "output_type": "stream",
          "text": [
            "Epoch: [1/1], Step: [100/937], Loss : [0.642702]\n",
            "Epoch: [1/1], Step: [200/937], Loss : [0.231089]\n",
            "Epoch: [1/1], Step: [300/937], Loss : [0.328823]\n",
            "Epoch: [1/1], Step: [400/937], Loss : [0.371572]\n",
            "Epoch: [1/1], Step: [500/937], Loss : [0.281714]\n",
            "Epoch: [1/1], Step: [600/937], Loss : [0.306985]\n",
            "Epoch: [1/1], Step: [700/937], Loss : [0.469418]\n",
            "Epoch: [1/1], Step: [800/937], Loss : [0.271903]\n",
            "Epoch: [1/1], Step: [900/937], Loss : [0.362971]\n",
            "Accuracy of the model on the 10000 test images: 92 %\n"
          ],
          "name": "stdout"
        }
      ]
    },
    {
      "metadata": {
        "id": "uoxVxZVDZu-C",
        "colab_type": "code",
        "outputId": "79b7b1be-a8a5-45c9-e33f-1060f4df0a7d",
        "colab": {
          "base_uri": "https://localhost:8080/",
          "height": 882
        }
      },
      "cell_type": "code",
      "source": [
        "# Neural Network\n",
        "\n",
        "net = nn.Sequential(\n",
        "    nn.Linear(28*28, 100),\n",
        "    nn.Dropout(0.15),\n",
        "    nn.ReLU(),\n",
        "    nn.Linear(100, 100),\n",
        "    nn.Dropout(0.15),\n",
        "    nn.Linear(100, 10),\n",
        "    nn.LogSoftmax()\n",
        ")\n",
        "\n",
        "model = net\n",
        "learning_rate = 0.1\n",
        "num_epochs = 5\n",
        "# Loss and Optimizer\n",
        "# Softmax is internally computed.\n",
        "# Set parameters to be updated.\n",
        "criterion = nn.CrossEntropyLoss()  \n",
        "optimizer = torch.optim.SGD(model.parameters(), lr=learning_rate)  \n",
        "\n",
        "# Training the Model\n",
        "for epoch in range(num_epochs):\n",
        "    for i, (images, labels) in enumerate(train_loader):\n",
        "        images = Variable(images.view(-1, 28*28))\n",
        "        labels = Variable(labels)\n",
        "        \n",
        "        # Forward + Backward + Optimize\n",
        "        optimizer.zero_grad()\n",
        "        outputs = model(images)\n",
        "        loss = criterion(outputs, labels)\n",
        "        loss.backward()\n",
        "        optimizer.step()\n",
        "        \n",
        "        if (i+1) % 100 == 0:\n",
        "            print ('Epoch: [%d/%d], Step: [%d/%d], Loss : [%f]'% (epoch+1, num_epochs, i+1,len(train_dataset)//batch_size , loss ))\n",
        "\n",
        "correct = 0\n",
        "total = 0\n",
        "for images, labels in test_loader:\n",
        "    images = Variable(images.view(-1, 28*28))\n",
        "    outputs = model(images)\n",
        "    _, predicted = torch.max(outputs.data, 1)\n",
        "    total += labels.size(0)\n",
        "    correct += (predicted == labels).sum()\n",
        "    \n",
        "print('Accuracy of the model on the 10000 test images: %d %%' % (100 * correct / total))"
      ],
      "execution_count": 0,
      "outputs": [
        {
          "output_type": "stream",
          "text": [
            "/usr/local/lib/python3.6/dist-packages/torch/nn/modules/container.py:92: UserWarning: Implicit dimension choice for log_softmax has been deprecated. Change the call to include dim=X as an argument.\n",
            "  input = module(input)\n"
          ],
          "name": "stderr"
        },
        {
          "output_type": "stream",
          "text": [
            "Epoch: [1/5], Step: [100/937], Loss : [0.651469]\n",
            "Epoch: [1/5], Step: [200/937], Loss : [0.427065]\n",
            "Epoch: [1/5], Step: [300/937], Loss : [0.313470]\n",
            "Epoch: [1/5], Step: [400/937], Loss : [0.387193]\n",
            "Epoch: [1/5], Step: [500/937], Loss : [0.386572]\n",
            "Epoch: [1/5], Step: [600/937], Loss : [0.333158]\n",
            "Epoch: [1/5], Step: [700/937], Loss : [0.255611]\n",
            "Epoch: [1/5], Step: [800/937], Loss : [0.326451]\n",
            "Epoch: [1/5], Step: [900/937], Loss : [0.263109]\n",
            "Epoch: [2/5], Step: [100/937], Loss : [0.176377]\n",
            "Epoch: [2/5], Step: [200/937], Loss : [0.193788]\n",
            "Epoch: [2/5], Step: [300/937], Loss : [0.196690]\n",
            "Epoch: [2/5], Step: [400/937], Loss : [0.153770]\n",
            "Epoch: [2/5], Step: [500/937], Loss : [0.262637]\n",
            "Epoch: [2/5], Step: [600/937], Loss : [0.300703]\n",
            "Epoch: [2/5], Step: [700/937], Loss : [0.125496]\n",
            "Epoch: [2/5], Step: [800/937], Loss : [0.205126]\n",
            "Epoch: [2/5], Step: [900/937], Loss : [0.095380]\n",
            "Epoch: [3/5], Step: [100/937], Loss : [0.239013]\n",
            "Epoch: [3/5], Step: [200/937], Loss : [0.255711]\n",
            "Epoch: [3/5], Step: [300/937], Loss : [0.123801]\n",
            "Epoch: [3/5], Step: [400/937], Loss : [0.125184]\n",
            "Epoch: [3/5], Step: [500/937], Loss : [0.060200]\n",
            "Epoch: [3/5], Step: [600/937], Loss : [0.160892]\n",
            "Epoch: [3/5], Step: [700/937], Loss : [0.205524]\n",
            "Epoch: [3/5], Step: [800/937], Loss : [0.173451]\n",
            "Epoch: [3/5], Step: [900/937], Loss : [0.164428]\n",
            "Epoch: [4/5], Step: [100/937], Loss : [0.152074]\n",
            "Epoch: [4/5], Step: [200/937], Loss : [0.083907]\n",
            "Epoch: [4/5], Step: [300/937], Loss : [0.230926]\n",
            "Epoch: [4/5], Step: [400/937], Loss : [0.283295]\n",
            "Epoch: [4/5], Step: [500/937], Loss : [0.103566]\n",
            "Epoch: [4/5], Step: [600/937], Loss : [0.057802]\n",
            "Epoch: [4/5], Step: [700/937], Loss : [0.031072]\n",
            "Epoch: [4/5], Step: [800/937], Loss : [0.074818]\n",
            "Epoch: [4/5], Step: [900/937], Loss : [0.021405]\n",
            "Epoch: [5/5], Step: [100/937], Loss : [0.150798]\n",
            "Epoch: [5/5], Step: [200/937], Loss : [0.161336]\n",
            "Epoch: [5/5], Step: [300/937], Loss : [0.075828]\n",
            "Epoch: [5/5], Step: [400/937], Loss : [0.054706]\n",
            "Epoch: [5/5], Step: [500/937], Loss : [0.037295]\n",
            "Epoch: [5/5], Step: [600/937], Loss : [0.142924]\n",
            "Epoch: [5/5], Step: [700/937], Loss : [0.102524]\n",
            "Epoch: [5/5], Step: [800/937], Loss : [0.054975]\n",
            "Epoch: [5/5], Step: [900/937], Loss : [0.245687]\n",
            "Accuracy of the model on the 10000 test images: 96 %\n"
          ],
          "name": "stdout"
        }
      ]
    },
    {
      "metadata": {
        "id": "jscPdiTRaTVZ",
        "colab_type": "code",
        "colab": {}
      },
      "cell_type": "code",
      "source": [
        "#Learning rate annealing (Since error decreases and then increases, we can decrease the learning rate there to not move ahead of minima )"
      ],
      "execution_count": 0,
      "outputs": []
    }
  ]
}