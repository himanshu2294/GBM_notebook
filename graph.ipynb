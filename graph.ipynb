{
  "nbformat": 4,
  "nbformat_minor": 0,
  "metadata": {
    "colab": {
      "name": "graph.ipynb",
      "version": "0.3.2",
      "provenance": [],
      "collapsed_sections": [],
      "include_colab_link": true
    },
    "kernelspec": {
      "name": "python3",
      "display_name": "Python 3"
    }
  },
  "cells": [
    {
      "cell_type": "markdown",
      "metadata": {
        "id": "view-in-github",
        "colab_type": "text"
      },
      "source": [
        "<a href=\"https://colab.research.google.com/github/himanshu2294/GBM_notebook/blob/master/graph.ipynb\" target=\"_parent\"><img src=\"https://colab.research.google.com/assets/colab-badge.svg\" alt=\"Open In Colab\"/></a>"
      ]
    },
    {
      "metadata": {
        "id": "sPO-MWpfj3vP",
        "colab_type": "code",
        "colab": {}
      },
      "cell_type": "code",
      "source": [
        "import networkx as nx\n",
        "import pandas as pd"
      ],
      "execution_count": 0,
      "outputs": []
    },
    {
      "metadata": {
        "id": "B2u4PAW8j6Az",
        "colab_type": "code",
        "colab": {}
      },
      "cell_type": "code",
      "source": [
        "df = pd.DataFrame({'indexid': [1,2,3,4,5,6], 'sid': [[11,12,13],[11,24,14],[11,12,24,13,27],[28,15,16],[15,16,13],[28,24,12]]})"
      ],
      "execution_count": 0,
      "outputs": []
    },
    {
      "metadata": {
        "id": "o3QsngvKsjjq",
        "colab_type": "code",
        "colab": {
          "base_uri": "https://localhost:8080/",
          "height": 121
        },
        "outputId": "cb9ed26d-2d55-4bea-fbe3-2f5b59d2e91a"
      },
      "cell_type": "code",
      "source": [
        "d = {}\n",
        "\n",
        "for i in range(6):\n",
        "  d[df['indexid'][i]] = df['sid'][i]\n",
        "\n",
        "d\n"
      ],
      "execution_count": 124,
      "outputs": [
        {
          "output_type": "execute_result",
          "data": {
            "text/plain": [
              "{1: [11, 12, 13],\n",
              " 2: [11, 24, 14],\n",
              " 3: [11, 12, 24, 13, 27],\n",
              " 4: [28, 15, 16],\n",
              " 5: [15, 16, 13],\n",
              " 6: [28, 24, 12]}"
            ]
          },
          "metadata": {
            "tags": []
          },
          "execution_count": 124
        }
      ]
    },
    {
      "metadata": {
        "id": "kFUf5Zmj78Um",
        "colab_type": "code",
        "colab": {
          "base_uri": "https://localhost:8080/",
          "height": 233
        },
        "outputId": "bd57d3c4-dead-4426-efc7-6b6feb59927a"
      },
      "cell_type": "code",
      "source": [
        "df.columns = ['sid','indexid']\n",
        "df"
      ],
      "execution_count": 128,
      "outputs": [
        {
          "output_type": "execute_result",
          "data": {
            "text/html": [
              "<div>\n",
              "<style scoped>\n",
              "    .dataframe tbody tr th:only-of-type {\n",
              "        vertical-align: middle;\n",
              "    }\n",
              "\n",
              "    .dataframe tbody tr th {\n",
              "        vertical-align: top;\n",
              "    }\n",
              "\n",
              "    .dataframe thead th {\n",
              "        text-align: right;\n",
              "    }\n",
              "</style>\n",
              "<table border=\"1\" class=\"dataframe\">\n",
              "  <thead>\n",
              "    <tr style=\"text-align: right;\">\n",
              "      <th></th>\n",
              "      <th>sid</th>\n",
              "      <th>indexid</th>\n",
              "    </tr>\n",
              "  </thead>\n",
              "  <tbody>\n",
              "    <tr>\n",
              "      <th>0</th>\n",
              "      <td>1</td>\n",
              "      <td>[11, 12, 13]</td>\n",
              "    </tr>\n",
              "    <tr>\n",
              "      <th>1</th>\n",
              "      <td>2</td>\n",
              "      <td>[11, 24, 14]</td>\n",
              "    </tr>\n",
              "    <tr>\n",
              "      <th>2</th>\n",
              "      <td>3</td>\n",
              "      <td>[11, 12, 24, 13, 27]</td>\n",
              "    </tr>\n",
              "    <tr>\n",
              "      <th>3</th>\n",
              "      <td>4</td>\n",
              "      <td>[28, 15, 16]</td>\n",
              "    </tr>\n",
              "    <tr>\n",
              "      <th>4</th>\n",
              "      <td>5</td>\n",
              "      <td>[15, 16, 13]</td>\n",
              "    </tr>\n",
              "    <tr>\n",
              "      <th>5</th>\n",
              "      <td>6</td>\n",
              "      <td>[28, 24, 12]</td>\n",
              "    </tr>\n",
              "  </tbody>\n",
              "</table>\n",
              "</div>"
            ],
            "text/plain": [
              "   sid               indexid\n",
              "0    1          [11, 12, 13]\n",
              "1    2          [11, 24, 14]\n",
              "2    3  [11, 12, 24, 13, 27]\n",
              "3    4          [28, 15, 16]\n",
              "4    5          [15, 16, 13]\n",
              "5    6          [28, 24, 12]"
            ]
          },
          "metadata": {
            "tags": []
          },
          "execution_count": 128
        }
      ]
    },
    {
      "metadata": {
        "id": "_gJsQoJY3Z8r",
        "colab_type": "code",
        "colab": {}
      },
      "cell_type": "code",
      "source": [
        "df['Index_edges'] = df['indexid'].apply(lambda x: list(combinations(x,2)))"
      ],
      "execution_count": 0,
      "outputs": []
    },
    {
      "metadata": {
        "id": "o6ni5w7J8bGy",
        "colab_type": "code",
        "colab": {
          "base_uri": "https://localhost:8080/",
          "height": 233
        },
        "outputId": "4fee066c-9ae7-4bbc-af3f-c12fcae6a32b"
      },
      "cell_type": "code",
      "source": [
        "df"
      ],
      "execution_count": 130,
      "outputs": [
        {
          "output_type": "execute_result",
          "data": {
            "text/html": [
              "<div>\n",
              "<style scoped>\n",
              "    .dataframe tbody tr th:only-of-type {\n",
              "        vertical-align: middle;\n",
              "    }\n",
              "\n",
              "    .dataframe tbody tr th {\n",
              "        vertical-align: top;\n",
              "    }\n",
              "\n",
              "    .dataframe thead th {\n",
              "        text-align: right;\n",
              "    }\n",
              "</style>\n",
              "<table border=\"1\" class=\"dataframe\">\n",
              "  <thead>\n",
              "    <tr style=\"text-align: right;\">\n",
              "      <th></th>\n",
              "      <th>sid</th>\n",
              "      <th>indexid</th>\n",
              "      <th>Index_edges</th>\n",
              "    </tr>\n",
              "  </thead>\n",
              "  <tbody>\n",
              "    <tr>\n",
              "      <th>0</th>\n",
              "      <td>1</td>\n",
              "      <td>[11, 12, 13]</td>\n",
              "      <td>[(11, 12), (11, 13), (12, 13)]</td>\n",
              "    </tr>\n",
              "    <tr>\n",
              "      <th>1</th>\n",
              "      <td>2</td>\n",
              "      <td>[11, 24, 14]</td>\n",
              "      <td>[(11, 24), (11, 14), (24, 14)]</td>\n",
              "    </tr>\n",
              "    <tr>\n",
              "      <th>2</th>\n",
              "      <td>3</td>\n",
              "      <td>[11, 12, 24, 13, 27]</td>\n",
              "      <td>[(11, 12), (11, 24), (11, 13), (11, 27), (12, ...</td>\n",
              "    </tr>\n",
              "    <tr>\n",
              "      <th>3</th>\n",
              "      <td>4</td>\n",
              "      <td>[28, 15, 16]</td>\n",
              "      <td>[(28, 15), (28, 16), (15, 16)]</td>\n",
              "    </tr>\n",
              "    <tr>\n",
              "      <th>4</th>\n",
              "      <td>5</td>\n",
              "      <td>[15, 16, 13]</td>\n",
              "      <td>[(15, 16), (15, 13), (16, 13)]</td>\n",
              "    </tr>\n",
              "    <tr>\n",
              "      <th>5</th>\n",
              "      <td>6</td>\n",
              "      <td>[28, 24, 12]</td>\n",
              "      <td>[(28, 24), (28, 12), (24, 12)]</td>\n",
              "    </tr>\n",
              "  </tbody>\n",
              "</table>\n",
              "</div>"
            ],
            "text/plain": [
              "   sid               indexid  \\\n",
              "0    1          [11, 12, 13]   \n",
              "1    2          [11, 24, 14]   \n",
              "2    3  [11, 12, 24, 13, 27]   \n",
              "3    4          [28, 15, 16]   \n",
              "4    5          [15, 16, 13]   \n",
              "5    6          [28, 24, 12]   \n",
              "\n",
              "                                         Index_edges  \n",
              "0                     [(11, 12), (11, 13), (12, 13)]  \n",
              "1                     [(11, 24), (11, 14), (24, 14)]  \n",
              "2  [(11, 12), (11, 24), (11, 13), (11, 27), (12, ...  \n",
              "3                     [(28, 15), (28, 16), (15, 16)]  \n",
              "4                     [(15, 16), (15, 13), (16, 13)]  \n",
              "5                     [(28, 24), (28, 12), (24, 12)]  "
            ]
          },
          "metadata": {
            "tags": []
          },
          "execution_count": 130
        }
      ]
    },
    {
      "metadata": {
        "id": "vizcl7qX95ba",
        "colab_type": "code",
        "colab": {}
      },
      "cell_type": "code",
      "source": [
        "df_new = pd.DataFrame({\n",
        "   'sid' : df['sid'].values.repeat(df['Index_edges'].str.len()),\n",
        "    'Index_edges' : list(chain.from_iterable(df['Index_edges'].values.tolist()))\n",
        "})"
      ],
      "execution_count": 0,
      "outputs": []
    },
    {
      "metadata": {
        "id": "nFsQ8wPPK0Sb",
        "colab_type": "code",
        "colab": {
          "base_uri": "https://localhost:8080/",
          "height": 815
        },
        "outputId": "e49206d7-d8ea-4165-b2a9-b963111cf45b"
      },
      "cell_type": "code",
      "source": [
        "df_new"
      ],
      "execution_count": 132,
      "outputs": [
        {
          "output_type": "execute_result",
          "data": {
            "text/html": [
              "<div>\n",
              "<style scoped>\n",
              "    .dataframe tbody tr th:only-of-type {\n",
              "        vertical-align: middle;\n",
              "    }\n",
              "\n",
              "    .dataframe tbody tr th {\n",
              "        vertical-align: top;\n",
              "    }\n",
              "\n",
              "    .dataframe thead th {\n",
              "        text-align: right;\n",
              "    }\n",
              "</style>\n",
              "<table border=\"1\" class=\"dataframe\">\n",
              "  <thead>\n",
              "    <tr style=\"text-align: right;\">\n",
              "      <th></th>\n",
              "      <th>Index_edges</th>\n",
              "      <th>sid</th>\n",
              "    </tr>\n",
              "  </thead>\n",
              "  <tbody>\n",
              "    <tr>\n",
              "      <th>0</th>\n",
              "      <td>(11, 12)</td>\n",
              "      <td>1</td>\n",
              "    </tr>\n",
              "    <tr>\n",
              "      <th>1</th>\n",
              "      <td>(11, 13)</td>\n",
              "      <td>1</td>\n",
              "    </tr>\n",
              "    <tr>\n",
              "      <th>2</th>\n",
              "      <td>(12, 13)</td>\n",
              "      <td>1</td>\n",
              "    </tr>\n",
              "    <tr>\n",
              "      <th>3</th>\n",
              "      <td>(11, 24)</td>\n",
              "      <td>2</td>\n",
              "    </tr>\n",
              "    <tr>\n",
              "      <th>4</th>\n",
              "      <td>(11, 14)</td>\n",
              "      <td>2</td>\n",
              "    </tr>\n",
              "    <tr>\n",
              "      <th>5</th>\n",
              "      <td>(24, 14)</td>\n",
              "      <td>2</td>\n",
              "    </tr>\n",
              "    <tr>\n",
              "      <th>6</th>\n",
              "      <td>(11, 12)</td>\n",
              "      <td>3</td>\n",
              "    </tr>\n",
              "    <tr>\n",
              "      <th>7</th>\n",
              "      <td>(11, 24)</td>\n",
              "      <td>3</td>\n",
              "    </tr>\n",
              "    <tr>\n",
              "      <th>8</th>\n",
              "      <td>(11, 13)</td>\n",
              "      <td>3</td>\n",
              "    </tr>\n",
              "    <tr>\n",
              "      <th>9</th>\n",
              "      <td>(11, 27)</td>\n",
              "      <td>3</td>\n",
              "    </tr>\n",
              "    <tr>\n",
              "      <th>10</th>\n",
              "      <td>(12, 24)</td>\n",
              "      <td>3</td>\n",
              "    </tr>\n",
              "    <tr>\n",
              "      <th>11</th>\n",
              "      <td>(12, 13)</td>\n",
              "      <td>3</td>\n",
              "    </tr>\n",
              "    <tr>\n",
              "      <th>12</th>\n",
              "      <td>(12, 27)</td>\n",
              "      <td>3</td>\n",
              "    </tr>\n",
              "    <tr>\n",
              "      <th>13</th>\n",
              "      <td>(24, 13)</td>\n",
              "      <td>3</td>\n",
              "    </tr>\n",
              "    <tr>\n",
              "      <th>14</th>\n",
              "      <td>(24, 27)</td>\n",
              "      <td>3</td>\n",
              "    </tr>\n",
              "    <tr>\n",
              "      <th>15</th>\n",
              "      <td>(13, 27)</td>\n",
              "      <td>3</td>\n",
              "    </tr>\n",
              "    <tr>\n",
              "      <th>16</th>\n",
              "      <td>(28, 15)</td>\n",
              "      <td>4</td>\n",
              "    </tr>\n",
              "    <tr>\n",
              "      <th>17</th>\n",
              "      <td>(28, 16)</td>\n",
              "      <td>4</td>\n",
              "    </tr>\n",
              "    <tr>\n",
              "      <th>18</th>\n",
              "      <td>(15, 16)</td>\n",
              "      <td>4</td>\n",
              "    </tr>\n",
              "    <tr>\n",
              "      <th>19</th>\n",
              "      <td>(15, 16)</td>\n",
              "      <td>5</td>\n",
              "    </tr>\n",
              "    <tr>\n",
              "      <th>20</th>\n",
              "      <td>(15, 13)</td>\n",
              "      <td>5</td>\n",
              "    </tr>\n",
              "    <tr>\n",
              "      <th>21</th>\n",
              "      <td>(16, 13)</td>\n",
              "      <td>5</td>\n",
              "    </tr>\n",
              "    <tr>\n",
              "      <th>22</th>\n",
              "      <td>(28, 24)</td>\n",
              "      <td>6</td>\n",
              "    </tr>\n",
              "    <tr>\n",
              "      <th>23</th>\n",
              "      <td>(28, 12)</td>\n",
              "      <td>6</td>\n",
              "    </tr>\n",
              "    <tr>\n",
              "      <th>24</th>\n",
              "      <td>(24, 12)</td>\n",
              "      <td>6</td>\n",
              "    </tr>\n",
              "  </tbody>\n",
              "</table>\n",
              "</div>"
            ],
            "text/plain": [
              "   Index_edges  sid\n",
              "0     (11, 12)    1\n",
              "1     (11, 13)    1\n",
              "2     (12, 13)    1\n",
              "3     (11, 24)    2\n",
              "4     (11, 14)    2\n",
              "5     (24, 14)    2\n",
              "6     (11, 12)    3\n",
              "7     (11, 24)    3\n",
              "8     (11, 13)    3\n",
              "9     (11, 27)    3\n",
              "10    (12, 24)    3\n",
              "11    (12, 13)    3\n",
              "12    (12, 27)    3\n",
              "13    (24, 13)    3\n",
              "14    (24, 27)    3\n",
              "15    (13, 27)    3\n",
              "16    (28, 15)    4\n",
              "17    (28, 16)    4\n",
              "18    (15, 16)    4\n",
              "19    (15, 16)    5\n",
              "20    (15, 13)    5\n",
              "21    (16, 13)    5\n",
              "22    (28, 24)    6\n",
              "23    (28, 12)    6\n",
              "24    (24, 12)    6"
            ]
          },
          "metadata": {
            "tags": []
          },
          "execution_count": 132
        }
      ]
    },
    {
      "metadata": {
        "id": "2wA7pX_RB6C3",
        "colab_type": "code",
        "colab": {}
      },
      "cell_type": "code",
      "source": [
        "g2 = nx.MultiGraph()\n",
        "for i in range(len(df_new.Index_edges)):\n",
        "  u,v = (df_new.Index_edges[i])\n",
        "  g2.add_edge(u,v, name = 'sid' , value = (df_new.loc[i,'sid']))\n",
        "#   nx.set_edge_attributes(g2, )\n",
        "\n"
      ],
      "execution_count": 0,
      "outputs": []
    },
    {
      "metadata": {
        "id": "0fx_tJ_yTvAX",
        "colab_type": "code",
        "colab": {
          "base_uri": "https://localhost:8080/",
          "height": 55
        },
        "outputId": "392d8c5d-00ac-496c-9159-feb3b2408825"
      },
      "cell_type": "code",
      "source": [
        "g2[11]"
      ],
      "execution_count": 158,
      "outputs": [
        {
          "output_type": "execute_result",
          "data": {
            "text/plain": [
              "AdjacencyView({12: {0: {'name': 'sid', 'value': 1}, 1: {'name': 'sid', 'value': 3}}, 13: {0: {'name': 'sid', 'value': 1}, 1: {'name': 'sid', 'value': 3}}, 24: {0: {'name': 'sid', 'value': 2}, 1: {'name': 'sid', 'value': 3}}, 14: {0: {'name': 'sid', 'value': 2}}, 27: {0: {'name': 'sid', 'value': 3}}})"
            ]
          },
          "metadata": {
            "tags": []
          },
          "execution_count": 158
        }
      ]
    },
    {
      "metadata": {
        "id": "fOopM3YrTZIz",
        "colab_type": "code",
        "colab": {
          "base_uri": "https://localhost:8080/",
          "height": 479
        },
        "outputId": "9d66bcaa-e549-4302-802e-d95cd7ac7655"
      },
      "cell_type": "code",
      "source": [
        "nx.draw(g2, with_labels=True, font_weight='bold')"
      ],
      "execution_count": 156,
      "outputs": [
        {
          "output_type": "stream",
          "text": [
            "/usr/local/lib/python3.6/dist-packages/networkx/drawing/nx_pylab.py:611: MatplotlibDeprecationWarning: isinstance(..., numbers.Number)\n",
            "  if cb.is_numlike(alpha):\n"
          ],
          "name": "stderr"
        },
        {
          "output_type": "display_data",
          "data": {
            "image/png": "[encoded data removed]",
            "text/plain": [
              "<Figure size 576x396 with 1 Axes>"
            ]
          },
          "metadata": {
            "tags": []
          }
        }
      ]
    },
    {
      "metadata": {
        "id": "nkf-YwvOMZYH",
        "colab_type": "code",
        "colab": {}
      },
      "cell_type": "code",
      "source": [
        "bb = nx.edge_betweenness_centrality(g2, normalized=False)"
      ],
      "execution_count": 0,
      "outputs": []
    },
    {
      "metadata": {
        "id": "_3BVJxr7Mb-z",
        "colab_type": "code",
        "colab": {
          "base_uri": "https://localhost:8080/",
          "height": 173
        },
        "outputId": "5a03a627-958f-44dd-af42-1bdf0d32cbfe"
      },
      "cell_type": "code",
      "source": [
        "(nx.degree_centrality(g2 ))\n",
        "# nx.in_degree_centrality(g2)"
      ],
      "execution_count": 121,
      "outputs": [
        {
          "output_type": "execute_result",
          "data": {
            "text/plain": [
              "{11: 0.5,\n",
              " 12: 0.5,\n",
              " 13: 0.75,\n",
              " 14: 0.25,\n",
              " 15: 0.5,\n",
              " 16: 0.5,\n",
              " 24: 0.75,\n",
              " 27: 0.25,\n",
              " 28: 0.5}"
            ]
          },
          "metadata": {
            "tags": []
          },
          "execution_count": 121
        }
      ]
    },
    {
      "metadata": {
        "id": "7-A4Ya0U-YKH",
        "colab_type": "code",
        "colab": {
          "base_uri": "https://localhost:8080/",
          "height": 479
        },
        "outputId": "a0cc9367-444c-4543-db33-6bc3f82b86fc"
      },
      "cell_type": "code",
      "source": [
        "g = nx.MultiGraph()\n",
        "g.add_edges_from(list(df_new.Index_edges.values))\n",
        "\n",
        "nx.draw(g, with_labels=True, font_weight='bold')"
      ],
      "execution_count": 76,
      "outputs": [
        {
          "output_type": "stream",
          "text": [
            "/usr/local/lib/python3.6/dist-packages/networkx/drawing/nx_pylab.py:611: MatplotlibDeprecationWarning: isinstance(..., numbers.Number)\n",
            "  if cb.is_numlike(alpha):\n"
          ],
          "name": "stderr"
        },
        {
          "output_type": "display_data",
          "data": {
            "image/png": "[encoded data removed]",
            "text/plain": [
              "<Figure size 576x396 with 1 Axes>"
            ]
          },
          "metadata": {
            "tags": []
          }
        }
      ]
    },
    {
      "metadata": {
        "id": "5HOCh6ZjB409",
        "colab_type": "code",
        "colab": {}
      },
      "cell_type": "code",
      "source": [
        ""
      ],
      "execution_count": 0,
      "outputs": []
    },
    {
      "metadata": {
        "id": "15k7DQnF274Q",
        "colab_type": "code",
        "colab": {}
      },
      "cell_type": "code",
      "source": [
        "G = nx.MultiGraph()\n",
        "\n",
        "for sid in df.indexid:\n",
        "  "
      ],
      "execution_count": 0,
      "outputs": []
    },
    {
      "metadata": {
        "id": "YTM6OUDG28Aq",
        "colab_type": "code",
        "colab": {}
      },
      "cell_type": "code",
      "source": [
        ""
      ],
      "execution_count": 0,
      "outputs": []
    },
    {
      "metadata": {
        "id": "jjBTvlQr28Db",
        "colab_type": "code",
        "colab": {}
      },
      "cell_type": "code",
      "source": [
        ""
      ],
      "execution_count": 0,
      "outputs": []
    },
    {
      "metadata": {
        "id": "2IJB4tBe2pvX",
        "colab_type": "code",
        "colab": {}
      },
      "cell_type": "code",
      "source": [
        "from networkx.algorithms import bipartite"
      ],
      "execution_count": 0,
      "outputs": []
    },
    {
      "metadata": {
        "id": "JoXgAvz1trN_",
        "colab_type": "code",
        "colab": {
          "base_uri": "https://localhost:8080/",
          "height": 166
        },
        "outputId": "f03bb598-2aca-4bfc-f509-e416bfbd925d"
      },
      "cell_type": "code",
      "source": [
        "g.is_bipartite()"
      ],
      "execution_count": 53,
      "outputs": [
        {
          "output_type": "error",
          "ename": "AttributeError",
          "evalue": "ignored",
          "traceback": [
            "\u001b[0;31m---------------------------------------------------------------------------\u001b[0m",
            "\u001b[0;31mAttributeError\u001b[0m                            Traceback (most recent call last)",
            "\u001b[0;32m<ipython-input-53-67ec22069a3c>\u001b[0m in \u001b[0;36m<module>\u001b[0;34m()\u001b[0m\n\u001b[0;32m----> 1\u001b[0;31m \u001b[0mg\u001b[0m\u001b[0;34m.\u001b[0m\u001b[0mis_bipartite\u001b[0m\u001b[0;34m(\u001b[0m\u001b[0;34m)\u001b[0m\u001b[0;34m\u001b[0m\u001b[0;34m\u001b[0m\u001b[0m\n\u001b[0m",
            "\u001b[0;31mAttributeError\u001b[0m: 'Graph' object has no attribute 'is_bipartite'"
          ]
        }
      ]
    },
    {
      "metadata": {
        "id": "5OecCazXlPNl",
        "colab_type": "code",
        "colab": {
          "base_uri": "https://localhost:8080/",
          "height": 479
        },
        "outputId": "404bbba6-fd88-4e58-fae2-36109fc24294"
      },
      "cell_type": "code",
      "source": [
        "nx.draw(g, with_labels=True, font_weight='bold')"
      ],
      "execution_count": 31,
      "outputs": [
        {
          "output_type": "stream",
          "text": [
            "/usr/local/lib/python3.6/dist-packages/networkx/drawing/nx_pylab.py:611: MatplotlibDeprecationWarning: isinstance(..., numbers.Number)\n",
            "  if cb.is_numlike(alpha):\n"
          ],
          "name": "stderr"
        },
        {
          "output_type": "display_data",
          "data": {
            "image/png": "[encoded data removed]",
            "text/plain": [
              "<Figure size 576x396 with 1 Axes>"
            ]
          },
          "metadata": {
            "tags": []
          }
        }
      ]
    },
    {
      "metadata": {
        "id": "oQVyaq2_lZ9m",
        "colab_type": "code",
        "colab": {
          "base_uri": "https://localhost:8080/",
          "height": 479
        },
        "outputId": "fc546efd-fe8b-4d36-9db9-93216cf131ff"
      },
      "cell_type": "code",
      "source": [
        "# G = nx.erdos_renyi_graph(20,0.1)\n",
        "color_map = []\n",
        "for node in g:\n",
        "    if node <=6:\n",
        "        color_map.append('blue')\n",
        "    else: color_map.append('red')      \n",
        "nx.draw(g,node_color = color_map,with_labels = True)"
      ],
      "execution_count": 44,
      "outputs": [
        {
          "output_type": "stream",
          "text": [
            "/usr/local/lib/python3.6/dist-packages/networkx/drawing/nx_pylab.py:611: MatplotlibDeprecationWarning: isinstance(..., numbers.Number)\n",
            "  if cb.is_numlike(alpha):\n"
          ],
          "name": "stderr"
        },
        {
          "output_type": "display_data",
          "data": {
            "image/png": "[encoded data removed]",
            "text/plain": [
              "<Figure size 576x396 with 1 Axes>"
            ]
          },
          "metadata": {
            "tags": []
          }
        }
      ]
    },
    {
      "metadata": {
        "id": "ZyH7svNGlbPO",
        "colab_type": "code",
        "colab": {}
      },
      "cell_type": "code",
      "source": [
        "nodes"
      ],
      "execution_count": 0,
      "outputs": []
    }
  ]
}